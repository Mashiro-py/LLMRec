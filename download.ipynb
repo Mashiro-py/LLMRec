{
 "cells": [
  {
   "cell_type": "code",
   "id": "initial_id",
   "metadata": {
    "collapsed": true,
    "ExecuteTime": {
     "end_time": "2024-08-08T14:37:01.340545Z",
     "start_time": "2024-08-08T14:09:10.517462Z"
    }
   },
   "source": [
    "#模型下载\n",
    "from modelscope import snapshot_download\n",
    "mowdel_dir = snapshot_download('shakechen/Llama-2-7b-hf',cache_dir=\"D:/pretrained/Llama-2-7b-hf\",ignore_file_pattern=\".bin\")"
   ],
   "outputs": [
    {
     "name": "stderr",
     "output_type": "stream",
     "text": [
      "Downloading: 100%|██████████| 609/609 [00:00<00:00, 1.19kB/s]\n",
      "Downloading: 0.00B [00:00, ?B/s]\n",
      "Downloading: 100%|██████████| 188/188 [00:00<00:00, 477B/s]\n",
      "Downloading: 100%|██████████| 6.86k/6.86k [00:00<00:00, 14.1kB/s]\n",
      "Downloading:  37%|███▋      | 3.42G/9.29G [04:14<07:21, 14.3MB/s]  2024-08-08 22:13:31,726 - modelscope - WARNING - Downloading: D:/pretrained/Llama-2-7b-hf\\._____temp\\shakechen\\Llama-2-7b-hf\\model-00001-of-00002.safetensors failed, reason: ('Connection broken: IncompleteRead(13055274 bytes read, 154716886 more expected)', IncompleteRead(13055274 bytes read, 154716886 more expected)) will retry\n",
      "Downloading:  61%|██████    | 5.64G/9.29G [06:56<03:51, 17.0MB/s]2024-08-08 22:16:13,564 - modelscope - WARNING - Downloading: D:/pretrained/Llama-2-7b-hf\\._____temp\\shakechen\\Llama-2-7b-hf\\model-00001-of-00002.safetensors failed, reason: ('Connection broken: IncompleteRead(3141010 bytes read, 164631150 more expected)', IncompleteRead(3141010 bytes read, 164631150 more expected)) will retry\n",
      "Downloading: 9.31GB [23:13, 7.17MB/s]                            \n",
      "Downloading: 100%|██████████| 3.26G/3.26G [04:00<00:00, 14.6MB/s]\n",
      "Downloading: 100%|██████████| 26.2k/26.2k [00:00<00:00, 43.8kB/s]\n",
      "Downloading: 100%|██████████| 10.2k/10.2k [00:00<00:00, 27.6kB/s]\n",
      "Downloading: 100%|██████████| 1.20M/1.20M [00:00<00:00, 1.78MB/s]\n",
      "Downloading: 100%|██████████| 414/414 [00:00<00:00, 1.09kB/s]\n",
      "Downloading: 100%|██████████| 1.76M/1.76M [00:00<00:00, 2.58MB/s]\n",
      "Downloading: 100%|██████████| 488k/488k [00:00<00:00, 603kB/s]\n",
      "Downloading: 100%|██████████| 776/776 [00:00<00:00, 2.06kB/s]\n",
      "Downloading: 100%|██████████| 4.65k/4.65k [00:00<00:00, 12.0kB/s]\n"
     ]
    }
   ],
   "execution_count": 1
  }
 ],
 "metadata": {
  "kernelspec": {
   "display_name": "Python 3",
   "language": "python",
   "name": "python3"
  },
  "language_info": {
   "codemirror_mode": {
    "name": "ipython",
    "version": 2
   },
   "file_extension": ".py",
   "mimetype": "text/x-python",
   "name": "python",
   "nbconvert_exporter": "python",
   "pygments_lexer": "ipython2",
   "version": "2.7.6"
  }
 },
 "nbformat": 4,
 "nbformat_minor": 5
}
